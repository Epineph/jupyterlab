{
 "cells": [
  {
   "cell_type": "markdown",
   "id": "8495d352",
   "metadata": {},
   "source": [
    "<div hidden>\n",
    "$\\begin{document}$\n",
    "</div>"
   ]
  },
  {
   "cell_type": "markdown",
   "id": "d6555ce9",
   "metadata": {},
   "source": [
    "### importing some libraries\n",
    "These may prove to be useful. You might also want to check the \"hidden cell\" below the next cell.\n"
   ]
  },
  {
   "cell_type": "code",
   "execution_count": 24,
   "id": "4639dae6",
   "metadata": {},
   "outputs": [],
   "source": [
    "import antlr4\n",
    "import sympy as sym\n",
    "from sympy import symbols, functions, printing, print_latex, init_printing, latex\n",
    "init_printing(use_latex = True)\n",
    "import latex\n",
    "from latex import exc, jinja2, build_pdf\n",
    "import pylatex as pyl\n",
    "from pylatex import base_classes, Command\n",
    "import time\n",
    "import os\n",
    "import subprocess\n",
    "import re\n",
    "import pandas as pd\n",
    "import markdown\n",
    "from markdown import blockparser, blockprocessors, core, extensions, Extension\n",
    "from IPython.core import latex_symbols, compilerop, interactiveshell\n",
    "import pandoc\n",
    "from pandoc import *\n",
    "from sympy import sympify\n",
    "import json\n",
    "from IPython.display import display, Math, Latex, HTML, display_latex, Pretty, update_display"
   ]
  },
  {
   "cell_type": "markdown",
   "id": "90fccbe3",
   "metadata": {},
   "source": [
    "<div hidden>\n",
    "$\\usepackage{pict2e}$\n",
    "$\\usepackage{tikz}$\n",
    "$\\usepackage{amsmath}$\n",
    "$\\usepackage{amssymb}$\n",
    "$\\usepackage{amsthm}$\n",
    "$\\usepackage{bm}$\n",
    "$\\usepackage{mathtools}$\n",
    "$\\usepackage{textcomp}$\n",
    "</div>"
   ]
  },
  {
   "cell_type": "markdown",
   "id": "92f0b8e6",
   "metadata": {},
   "source": [
    "## Variables\n",
    "\n",
    "### Assignment statements\n",
    "\n",
    "The general form of an assignment statement:\n",
    "\n",
    "_variable_ = **expression**\n",
    "\n",
    "Where the $=$ sign implies that the expression on the left hand side is stored in the variable, i.e., $\\text{variable} = \\text{expression}$.\n",
    "\n",
    "Variables are called so because they vary, and variables can be used in many useful ways in Python. \n",
    "\n",
    "For example, we may wish to make a _variable_, $T$, **which signifies temerature**. But if we for some reason find our selves in the US, a country which historically has had no no logical relationship between the scales and units used to measure something as basic as temerature. While, technically, the only logical scale is not being used in any coutry, namely **Kelvin** where 0 is absolute zero - Put more simply, $0 \\text{Kelvin is} \\approx -273.15^\\circ $C$, i.e., -273.15 Celcius - most european countries use scales that are based on **SI Units**, instead of just completely arbitrary scales. While _Celcius_ may not be an SI unit, it is far from arbitrary and callibrated to be very useful in a practical sense, but its non-arbitrariness also relates to its properties with respect to physical phenomena.\n",
    "\n",
    "For example, $0^\\circ$ is the temperature at which water freezes and $100^\\circ$ is the temperature at which water boils. In essence, Celcius is a very scale that has many practical applications and based on different states of mater of water molecules \n",
    "\n",
    "Example assignment statements:"
   ]
  },
  {
   "cell_type": "code",
   "execution_count": 2,
   "id": "38a6e29d",
   "metadata": {},
   "outputs": [
    {
     "data": {
      "image/png": "[encoded data removed]",
      "text/latex": [
       "$\\displaystyle \\frac{b h}{2} = a$"
      ],
      "text/plain": [
       "b⋅h    \n",
       "─── = a\n",
       " 2     "
      ]
     },
     "metadata": {},
     "output_type": "display_data"
    }
   ],
   "source": [
    "from sympy import Add\n",
    "base = 20\n",
    "height = 12\n",
    "area = base * height / 2 # below we use a = b * h / 2\n",
    "\n",
    "a = sym.Symbol('a', real=True)\n",
    "b = sym.Symbol('b', real=True)\n",
    "h = sym.Symbol('h', real=True)\n",
    "\n",
    "Area = sym.Eq(b * h / 2, a)\n",
    "display(Area)\n",
    "\n",
    "Area_values = Area.subs([(b, 20), (h, 12)])\n",
    "\n"
   ]
  },
  {
   "cell_type": "markdown",
   "id": "b38c4257",
   "metadata": {},
   "source": [
    "$\n",
    "\\dfrac{20 \\times 12}{2} = a\n",
    "$"
   ]
  },
  {
   "cell_type": "code",
   "execution_count": 3,
   "id": "b8b41fe4",
   "metadata": {},
   "outputs": [
    {
     "data": {
      "image/png": "[encoded data removed]",
      "text/latex": [
       "$\\displaystyle 120 = a$"
      ],
      "text/plain": [
       "120 = a"
      ]
     },
     "metadata": {},
     "output_type": "display_data"
    }
   ],
   "source": [
    "display(Area_values)"
   ]
  },
  {
   "cell_type": "markdown",
   "id": "9fd75c40",
   "metadata": {},
   "source": [
    "Here `=` refers to the assignment operator, the name on the left-hand side is the variable, for example, _base_, or _height_, and the _expression_ is the thing being **assigned** to the variable, in this case **20** is _assigned_ to the variable _base_, and **12** is _assigned to the variable _height_.\n",
    "\n",
    "It's **important** to note that it's not a number that is being assigned to the variables in these cases, even though numbers, including both _float_ (decimal numbers such as _12.3_ or integers such as _34_) are valid inputs that can be assigned to a variable, in **variables what is being assigned to the variable is known as an expression**, so `area = base * height / 2` is a variable, _area_, which in this case is being assigned what can be considered a matehmatical operation to calculate the **area of an triangle**."
   ]
  },
  {
   "cell_type": "markdown",
   "id": "95dc405c",
   "metadata": {},
   "source": [
    "<div style=\"width:100%;text-align:center;\">\n",
    "<img src=\"https://dfrrh0itwp1ti.cloudfront.net/img/a/geometry/shapes/rectangle/rectangle-angles.png\" alt=\"Untitled\" border=\"0\" width=\"300;\" height=\"200;\"></a>\n",
    "</div>"
   ]
  },
  {
   "cell_type": "markdown",
   "id": "b403310b",
   "metadata": {},
   "source": [
    "\n",
    "\n",
    "$$\n",
    "\\begin{equation*}\n",
    "\\begin{aligned}\n",
    "\\sum_{i=1}^{n=4}{\\angle{A}, \\ \\angle{B}, \\ \\angle{C}, \\ \\angle{D}} &= \\angle{90^\\circ} + \\angle{90^\\circ} + \\angle{90^\\circ} + \\angle{90^\\circ} \\\\ &= 360^\\circ \\\\\n",
    "\\end{aligned}\n",
    "\\end{equation*}\n",
    "$$\n",
    "\n",
    "Since a rectangle have 4 right angles, i.e., they are all the same (otherwise, this would not work), this alternatie equation is also valid:$\\angle{90^\\circ} \\times 4 = 360^\\circ$, since $\\angle{90^\\circ} + \\angle{90^\\circ} + \\angle{90^\\circ} + \\angle{90^\\circ}$ is mathematically equivalent to $\\angle{90^\\circ} \\times 4 = 360^\\circ$, since it is just, in a mathematical sense, just an algebraic simplification, and thus not a formal equation."
   ]
  },
  {
   "cell_type": "markdown",
   "id": "65ab0caa",
   "metadata": {},
   "source": [
    "<div style=\"width:100%;text-align:center;\">\n",
    "    \n",
    "<img src=\"https://media.geeksforgeeks.org/wp-content/cdn-uploads/20201022212841/Area-of-a-Triangle-3-1024x605.png\" alt=\"Untitled\" border=\"0\" width=\"400;\" height=\"250;\"></a>\n",
    "</div>\n",
    "</div>"
   ]
  },
  {
   "cell_type": "markdown",
   "id": "958e8e85",
   "metadata": {},
   "source": [
    "Therefore, we end up with two **right** triangles, one being defined by the three angles $\\angle{ABC}$ and the other being defined by $\\angle{ACD}$. \n",
    "\n",
    "Before when we considered the area of a rectangle, we used the following formula:\n",
    "\n",
    "$$\n",
    "\\begin{equation*}\n",
    "A = h \\times b\n",
    "\\end{equation*}\n",
    "$$\n",
    "\n",
    "Since we are being left with two triangles when we split up the rectangle by drawing the diagonal $\\overrightarrow{AC}$, i.e., the line that goes from $A$ to $C$, then it follows logically that formula for calculating the area of a triangle must be half of the area of a rectangle, and therefore:\n",
    "\n",
    "$$\n",
    "\\begin{equation*}\n",
    "\\begin{aligned}\n",
    "A &= \\frac{h \\times b}{2} \\ \\ \\ \\ \\text{,which can be rewritten as:} \\\\\n",
    "A &= (h \\times b) \\times \\frac{1}{2}\n",
    "\\end{aligned}\n",
    "\\end{equation*}\n",
    "$$\n",
    "\n",
    "If we know the values of the height and base/width of the rectangle, $h$ and $b$, then we also know the lenght of 2 sides of each of the two triangles, since for triangle $\\angle{ABC}$, the length of the two sides: $\\overrightarrow{AB}$ and $\\overrightarrow{BC}$, is the same as the values of $h$ and $b$. The same is true for triangle $\\angle{ACD}$, where the length of $\\overrightarrow{DC}$ and $\\overrightarrow{DA}$ also is the same as the values of $h$ and $b$.\n",
    "\n",
    "So, we may then consider, what is the length of the diagonal of the rectangle, $\\overrightarrow{AB}$, that we used to split it up into two triangles, and also constitutes the longest side of each triangle, also called referred to as the **hypotenuse**, defined as the side opposite to the right angle of the triangle. Let's call it $d$, as for _diagonal_. If we know the height and base (or $w$ and $l$ for _width_ and _lenght_, what we call it is not that important), then the only unknown is $d$, as shown in the picture below:\n",
    "\n",
    "<div style=\"width:100%;text-align:center;\">\n",
    "<img src=\"https://i.ibb.co/LQgMC57/Untitled.png\" border=\"0\" width=\"300;\" height=\"200;\"></a>\n",
    "\n",
    "</div>"
   ]
  },
  {
   "cell_type": "markdown",
   "id": "7bf8ab23",
   "metadata": {},
   "source": [
    "Let's consider one triangle, and work out this the length of the hypotenuse, which traditionally in _trigonometry_ is called $c$, and the two other sides are referred to as $a$ and $b$.\n",
    "<div style=\"width:100%;text-align:center;\">\n",
    "<img src=\"https://i.ibb.co/wYNNr3h/Untitled.png\" alt=\"Untitled\" border=\"0\" width=\"300;\" height=\"200;\"></a>\n",
    "</div>"
   ]
  },
  {
   "cell_type": "markdown",
   "id": "bf598967",
   "metadata": {},
   "source": [
    "To find the length of $c$, we can use an ancient theorem by the greek philosopher _Pythagoras_. We can use the package **Sympy**, which is a package developed to solve symbolic math. And let's say that $b = 9$ and $a = 4$, then what is $c$?"
   ]
  },
  {
   "cell_type": "code",
   "execution_count": 21,
   "id": "82f24c4c",
   "metadata": {},
   "outputs": [
    {
     "data": {
      "image/png": "[encoded data removed]",
      "text/latex": [
       "$\\displaystyle a^{2} + b^{2} = c^{2}$"
      ],
      "text/plain": [
       " 2    2    2\n",
       "a  + b  = c "
      ]
     },
     "metadata": {},
     "output_type": "display_data"
    },
    {
     "data": {
      "image/png": "[encoded data removed]",
      "text/latex": [
       "$\\displaystyle a^{2} + b^{2} = c$"
      ],
      "text/plain": [
       " 2    2    \n",
       "a  + b  = c"
      ]
     },
     "metadata": {},
     "output_type": "display_data"
    },
    {
     "data": {
      "text/latex": [
       "$\\displaystyle 25 = c^{2}$"
      ]
     },
     "metadata": {},
     "output_type": "display_data"
    },
    {
     "data": {
      "image/png": "[encoded data removed]",
      "text/latex": [
       "$\\displaystyle \\left[ \\left\\{ a : \\sqrt{- b^{2} + c^{2}}\\right\\}\\right]$"
      ],
      "text/plain": [
       "⎡⎧      ___________⎫⎤\n",
       "⎢⎨     ╱    2    2 ⎬⎥\n",
       "⎣⎩a: ╲╱  - b  + c  ⎭⎦"
      ]
     },
     "metadata": {},
     "output_type": "display_data"
    },
    {
     "data": {
      "text/latex": [
       "$\\displaystyle 25 = c^{2}$"
      ]
     },
     "metadata": {},
     "output_type": "display_data"
    },
    {
     "data": {
      "text/latex": [
       "$\\displaystyle \\left\\{5\\right\\}$"
      ]
     },
     "metadata": {},
     "output_type": "display_data"
    },
    {
     "name": "stdout",
     "output_type": "stream",
     "text": [
      "Collecting antlr4-python3-runtime==4.7.2\n",
      "  Downloading antlr4-python3-runtime-4.7.2.tar.gz (112 kB)\n",
      "                                              0.0/112.3 kB ? eta -:--:--\n",
      "     ---------------------                   61.4/112.3 kB 3.4 MB/s eta 0:00:01\n",
      "     -------------------------------------- 112.3/112.3 kB 2.2 MB/s eta 0:00:00\n",
      "  Preparing metadata (setup.py): started\n",
      "  Preparing metadata (setup.py): finished with status 'done'\n",
      "Building wheels for collected packages: antlr4-python3-runtime\n",
      "  Building wheel for antlr4-python3-runtime (setup.py): started\n",
      "  Building wheel for antlr4-python3-runtime (setup.py): finished with status 'done'\n",
      "  Created wheel for antlr4-python3-runtime: filename=antlr4_python3_runtime-4.7.2-py3-none-any.whl size=140939 sha256=85cb80e280bf576131dd1df371998254910129e767ae395f315495b66a574b04\n",
      "  Stored in directory: c:\\users\\heini\\appdata\\local\\pip\\cache\\wheels\\c4\\f4\\c7\\71f768e561b9cc8bce3160d1229728d0d77fd5fd6d4f5d960b\n",
      "Successfully built antlr4-python3-runtime\n",
      "Installing collected packages: antlr4-python3-runtime\n",
      "Successfully installed antlr4-python3-runtime-4.7.2\n"
     ]
    }
   ],
   "source": [
    "import sympy as sym\n",
    "from sympy import printing, solve, Eq, symbols\n",
    "from sympy.printing import print_rcode\n",
    "\n",
    "init_printing()\n",
    "\n",
    "init_printing(mat_symbol_style = \"plain\")\n",
    "\n",
    "a, b, c = sym.symbols('a b c', positive = True, real = True)\n",
    "# We define a, b and c as symbolic variables\n",
    "from sympy import Interval, solveset, oo, re, solve, simplify, sqrt, factor, roots, cancel\n",
    "\n",
    "\n",
    "Pytha = sym.Eq(a ** 2 + b ** 2, c ** 2)    # Syntax: sp.Eq(left side, right side)\n",
    "\n",
    "\n",
    "\n",
    "display(Pytha)\n",
    "Pytha_values = Pytha.subs([(a, 3), (b, 4)])\n",
    "\n",
    "\n",
    "aer1 = Pytha.subs(c, sqrt(c))\n",
    "\n",
    "display(aer1)\n",
    "\n",
    "aer2 = sym.solve(Pytha)\n",
    "\n",
    "jscode(aer2)\n",
    "display_latex(Pytha_values)\n",
    "\n",
    "\n",
    "display(aer2)\n",
    "display_latex(Pytha_values)\n",
    "\n",
    "from sympy import oo           # Vi importerer uendelig\n",
    "pos_solution = sym.solveset(Pytha_values, c, sym.Interval(0, oo))\n",
    "display_latex(pos_solution)\n",
    "\n",
    "\n",
    "def pythagoras(c=None, a=None, b=None):\n",
    "    \n",
    "\n",
    "    '''Pythagorean Theorem:\n",
    "    The area of the square whose side is the hypotenuse is equal\n",
    "    to the sum of the areas of the squares on the other two sides.'''\n",
    "     \n",
    "    try:\n",
    "        if c is None: \n",
    "            solu = sqrt(a ** 2 + b ** 2)\n",
    "            import sympy\n",
    "            from sympy.abc import a, b, c\n",
    "            sympify(solu)\n",
    "            display(solu)\n",
    "            return solu\n",
    "            \n",
    "        elif a is None: return sqrt(c ** 2 - b ** 2)\n",
    "        elif b is None: return sqrt(c ** 2 - a ** 2)\n",
    "        else: return \"No unknown values to calculate.\" \n",
    "    except:\n",
    "        return \"Insufficient data.\"\n",
    "    \n"
   ]
  },
  {
   "cell_type": "code",
   "execution_count": 27,
   "id": "47bd969d",
   "metadata": {},
   "outputs": [
    {
     "ename": "ImportError",
     "evalue": "LaTeX parsing requires the antlr4 Python package, provided by pip (antlr4-python3-runtime) or conda (antlr-python-runtime), version 4.11",
     "output_type": "error",
     "traceback": [
      "\u001b[1;31m---------------------------------------------------------------------------\u001b[0m",
      "\u001b[1;31mImportError\u001b[0m                               Traceback (most recent call last)",
      "Cell \u001b[1;32mIn[27], line 10\u001b[0m\n\u001b[0;32m      7\u001b[0m a\n\u001b[0;32m      9\u001b[0m \u001b[38;5;28;01mfrom\u001b[39;00m \u001b[38;5;21;01msympy\u001b[39;00m\u001b[38;5;21;01m.\u001b[39;00m\u001b[38;5;21;01mparsing\u001b[39;00m\u001b[38;5;21;01m.\u001b[39;00m\u001b[38;5;21;01mlatex\u001b[39;00m \u001b[38;5;28;01mimport\u001b[39;00m parse_latex\n\u001b[1;32m---> 10\u001b[0m parse_latex(\u001b[38;5;124mr\u001b[39m\u001b[38;5;124m\"\u001b[39m\u001b[38;5;124m\\\u001b[39m\u001b[38;5;124mfrac \u001b[39m\u001b[38;5;124m{\u001b[39m\u001b[38;5;124m1 + \u001b[39m\u001b[38;5;124m\\\u001b[39m\u001b[38;5;124msqrt \u001b[39m\u001b[38;5;124m{\u001b[39m\u001b[38;5;124m\\\u001b[39m\u001b[38;5;124ma}} \u001b[39m\u001b[38;5;124m{\u001b[39m\u001b[38;5;124m\\\u001b[39m\u001b[38;5;124mb}\u001b[39m\u001b[38;5;124m\"\u001b[39m)\n",
      "File \u001b[1;32mC:\\ProgramData\\anaconda3\\envs\\EnvJupy\\Lib\\site-packages\\sympy\\parsing\\latex\\__init__.py:35\u001b[0m, in \u001b[0;36mparse_latex\u001b[1;34m(s)\u001b[0m\n\u001b[0;32m     30\u001b[0m _latex \u001b[38;5;241m=\u001b[39m import_module(\n\u001b[0;32m     31\u001b[0m     \u001b[38;5;124m'\u001b[39m\u001b[38;5;124msympy.parsing.latex._parse_latex_antlr\u001b[39m\u001b[38;5;124m'\u001b[39m,\n\u001b[0;32m     32\u001b[0m     import_kwargs\u001b[38;5;241m=\u001b[39m{\u001b[38;5;124m'\u001b[39m\u001b[38;5;124mfromlist\u001b[39m\u001b[38;5;124m'\u001b[39m: [\u001b[38;5;124m'\u001b[39m\u001b[38;5;124mX\u001b[39m\u001b[38;5;124m'\u001b[39m]})\n\u001b[0;32m     34\u001b[0m \u001b[38;5;28;01mif\u001b[39;00m _latex \u001b[38;5;129;01mis\u001b[39;00m \u001b[38;5;129;01mnot\u001b[39;00m \u001b[38;5;28;01mNone\u001b[39;00m:\n\u001b[1;32m---> 35\u001b[0m     \u001b[38;5;28;01mreturn\u001b[39;00m _latex\u001b[38;5;241m.\u001b[39mparse_latex(s)\n",
      "File \u001b[1;32mC:\\ProgramData\\anaconda3\\envs\\EnvJupy\\Lib\\site-packages\\sympy\\parsing\\latex\\_parse_latex_antlr.py:66\u001b[0m, in \u001b[0;36mparse_latex\u001b[1;34m(sympy)\u001b[0m\n\u001b[0;32m     62\u001b[0m antlr4 \u001b[38;5;241m=\u001b[39m import_module(\u001b[38;5;124m'\u001b[39m\u001b[38;5;124mantlr4\u001b[39m\u001b[38;5;124m'\u001b[39m)\n\u001b[0;32m     64\u001b[0m \u001b[38;5;28;01mif\u001b[39;00m \u001b[38;5;28;01mNone\u001b[39;00m \u001b[38;5;129;01min\u001b[39;00m [antlr4, MathErrorListener] \u001b[38;5;129;01mor\u001b[39;00m \\\n\u001b[0;32m     65\u001b[0m         \u001b[38;5;129;01mnot\u001b[39;00m version(\u001b[38;5;124m'\u001b[39m\u001b[38;5;124mantlr4-python3-runtime\u001b[39m\u001b[38;5;124m'\u001b[39m)\u001b[38;5;241m.\u001b[39mstartswith(\u001b[38;5;124m'\u001b[39m\u001b[38;5;124m4.11\u001b[39m\u001b[38;5;124m'\u001b[39m):\n\u001b[1;32m---> 66\u001b[0m     \u001b[38;5;28;01mraise\u001b[39;00m \u001b[38;5;167;01mImportError\u001b[39;00m(\u001b[38;5;124m\"\u001b[39m\u001b[38;5;124mLaTeX parsing requires the antlr4 Python package,\u001b[39m\u001b[38;5;124m\"\u001b[39m\n\u001b[0;32m     67\u001b[0m                       \u001b[38;5;124m\"\u001b[39m\u001b[38;5;124m provided by pip (antlr4-python3-runtime) or\u001b[39m\u001b[38;5;124m\"\u001b[39m\n\u001b[0;32m     68\u001b[0m                       \u001b[38;5;124m\"\u001b[39m\u001b[38;5;124m conda (antlr-python-runtime), version 4.11\u001b[39m\u001b[38;5;124m\"\u001b[39m)\n\u001b[0;32m     70\u001b[0m matherror \u001b[38;5;241m=\u001b[39m MathErrorListener(sympy)\n\u001b[0;32m     72\u001b[0m stream \u001b[38;5;241m=\u001b[39m antlr4\u001b[38;5;241m.\u001b[39mInputStream(sympy)\n",
      "\u001b[1;31mImportError\u001b[0m: LaTeX parsing requires the antlr4 Python package, provided by pip (antlr4-python3-runtime) or conda (antlr-python-runtime), version 4.11"
     ]
    }
   ],
   "source": [
    "from sympy import simplify, cos, sin\n",
    "\n",
    "from sympy.abc import x, y\n",
    "\n",
    "a = (x + x**2)/(x*sin(y)**2 + x*cos(y)**2)\n",
    "\n",
    "a\n",
    "\n",
    "from sympy.parsing.latex import parse_latex\n",
    "parse_latex(r\"\\frac {1 + \\sqrt {\\a}} {\\b}\")\n"
   ]
  },
  {
   "cell_type": "code",
   "execution_count": null,
   "id": "9d9b025b",
   "metadata": {},
   "outputs": [],
   "source": [
    "import sympy as sym\n",
    "from sympy.abc import a, b, c\n",
    "# We define a, b and c as symbolic variables\n",
    "from sympy import Interval, solveset, oo, re, solve, simplify, sqrt, Function, Rational, Symbol, diophantine, Reals, posify\n",
    "\n",
    "\n",
    "\n",
    "Pytha = sym.Eq(a ** 2 + b ** 2, c ** 2, Reals = True)    # Syntax: sp.Eq(left side, right side)\n",
    "display(Pytha)\n",
    "display(sol2)\n"
   ]
  },
  {
   "cell_type": "markdown",
   "id": "16bb7e85",
   "metadata": {},
   "source": [
    "Before, we defined the values of the _base_ and _height_ as "
   ]
  },
  {
   "cell_type": "markdown",
   "id": "2a5e1a35",
   "metadata": {},
   "source": [
    "<div style=\"width:100%;text-align:center;\">\n",
    "<img src=\"https://i.ibb.co/LQgMC57/Untitled.png\" border=\"0\" width=\"300;\" height=\"200;\"></a>\n",
    "</div>"
   ]
  },
  {
   "cell_type": "markdown",
   "id": "5186abc6",
   "metadata": {},
   "source": [
    "\n",
    "<div style=\"width:100%;text-align:center;\">\n",
    "<img src=\"https://i.ibb.co/wYNNr3h/Untitled.png\" alt=\"Untitled\" border=\"0\" width=\"300;\" height=\"200;\"></a>\n",
    "</div>"
   ]
  },
  {
   "cell_type": "markdown",
   "id": "6b5c0b56",
   "metadata": {},
   "source": [
    "<a href=\"https://www.geeksforgeeks.org/\"><img src=\"https://media.geeksforgeeks.org/wp-content/cdn-uploads/20201022212831/Area-of-a-Triangle-2-1024x605.png\" alt=\"Untitled\" border=\"0\" width=\"400;\" height=\"250;\"></a>"
   ]
  },
  {
   "cell_type": "markdown",
   "id": "27e12923",
   "metadata": {},
   "source": [
    "<section class=\"container\">\n",
    "  <a href=\"https://www.geeksforgeeks.org/\">\n",
    "    <img class=\"center-block\" src=\"https://media.geeksforgeeks.org/wp-content/cdn-uploads/20201022212831/Area-of-a-Triangle-2-1024x605.png\" width=\"400;\" height=\"250;\"/>\n",
    "  </a>\n",
    "</section>"
   ]
  },
  {
   "cell_type": "markdown",
   "id": "e4f4a15e",
   "metadata": {},
   "source": [
    "$$\n",
    "Area_{ABC} = \\frac{ABCD_{area}}{2} $$"
   ]
  },
  {
   "cell_type": "markdown",
   "id": "80c1e811",
   "metadata": {},
   "source": [
    "The **area** of a triangle is calculated like this:\n",
    "\n",
    "$$ Area = \\frac{Base \\times Height} {2} $$\n",
    "\n",
    "Therefore, our variable _area_ is assigned to other variables, namely _base_ and _height_ **divided by 2**. So, what elements can be assigned to a variable can be other variables, numbers, mathematical operators etc., but the whole thing is known as an **expression**, as mentioned previously."
   ]
  },
  {
   "cell_type": "markdown",
   "id": "fff28b64",
   "metadata": {},
   "source": [
    "<section class=\"container\">\n",
    "\n",
    "<a href=\"https://imgbb.com/\"><img src=\"https://media.geeksforgeeks.org/wp-content/cdn-uploads/20201022212841/Area-of-a-Triangle-3-1024x605.png\" alt=\"Untitled\" border=\"0\"></a>"
   ]
  },
  {
   "cell_type": "markdown",
   "id": "e2a9f2ec",
   "metadata": {},
   "source": [
    "The rules for executing an assignment statement:\n",
    "\n",
    "1. Evaluate the expression. This produces a memory address.\n",
    "2. Store the memory address in the variable."
   ]
  },
  {
   "cell_type": "markdown",
   "id": "c34ec79f",
   "metadata": {},
   "source": [
    "Variable names\n",
    "The rules for legal Python names:\n",
    "\n",
    "1. Names must start with a letter or _.\n",
    "2. Names must contain only letters, digits, and _.\n",
    "For Python, in most situations, the convention is to use pothole_case."
   ]
  },
  {
   "cell_type": "markdown",
   "id": "55f259b3",
   "metadata": {},
   "source": [
    "https://pythontutor.com/visualize.html#mode=display\n",
    "\n"
   ]
  },
  {
   "cell_type": "markdown",
   "id": "1dd73f1b",
   "metadata": {},
   "source": [
    "Executing the variable, _area_, therefore results in whatever the values stored in the variables _height_ and _base_ divided by 2 is - we can find out by just typing in _area_, which outputs this value:"
   ]
  },
  {
   "cell_type": "code",
   "execution_count": null,
   "id": "946795ae",
   "metadata": {},
   "outputs": [],
   "source": [
    "area"
   ]
  },
  {
   "cell_type": "markdown",
   "id": "2e64693b",
   "metadata": {},
   "source": [
    "Or, if one finds the .0 a bit redundant or unecessary, we can just call **int**(input), which makes the resulting number an integer:"
   ]
  },
  {
   "cell_type": "markdown",
   "id": "0bdd5e4a",
   "metadata": {},
   "source": [
    "$$\n",
    "\\begin{theorem}\n",
    "\\label{pythagorean}\n",
    "This is a theorem about right triangles and can be summarised in the next \n",
    "equation \n",
    "\\[ x^2 + y^2 = z^2 \\]\n",
    "\\end{theorem}\n",
    "$$"
   ]
  },
  {
   "cell_type": "markdown",
   "id": "dda54d72",
   "metadata": {},
   "source": [
    "However, as we have learned, the numbers or inputs of variables are not, exactly, *stored as the inputs we see in the the computer's memory*. An easy way to demonstrate that is to change one of the variables used to calculate area, for example, the base. Let's test this."
   ]
  },
  {
   "cell_type": "code",
   "execution_count": null,
   "id": "41dc79ff",
   "metadata": {},
   "outputs": [],
   "source": [
    "base = 40"
   ]
  },
  {
   "cell_type": "markdown",
   "id": "f776e7ba",
   "metadata": {},
   "source": [
    "As we will see, if we execute the code *area*, the result stays the **same**:"
   ]
  },
  {
   "cell_type": "code",
   "execution_count": null,
   "id": "a7d7598d",
   "metadata": {},
   "outputs": [],
   "source": [
    "int(area)"
   ]
  },
  {
   "cell_type": "markdown",
   "id": "a481726e",
   "metadata": {},
   "source": [
    "The reason for this is that each value is stored in the computer's memory with a certain id, so even though `base = 20` and `base = 40` are stored as two different id's, or rather, `base = 20` and `base = 40` are pointers that point to different memory addresses in the computer's memory. We can demonstrate this by running id(base) depending on whether it equals 20 or 40."
   ]
  },
  {
   "cell_type": "code",
   "execution_count": null,
   "id": "a6f6e3cb",
   "metadata": {},
   "outputs": [],
   "source": [
    "base = 20\n",
    "id(base)"
   ]
  },
  {
   "cell_type": "code",
   "execution_count": null,
   "id": "f060c3e1",
   "metadata": {},
   "outputs": [],
   "source": [
    "base = 40\n",
    "id(base)"
   ]
  },
  {
   "cell_type": "markdown",
   "id": "d4725b89",
   "metadata": {},
   "source": [
    "When we stored the variable area, base equaled 20, and therefore when we stored area for the first time, `area was also stored or pointed to a specific memory adress`, which doesn't change as a result of base or height changing, despite area being a variable which has both variables assigned to it.\n",
    "\n",
    "Area equaled 120, and area - when it first was stored - likewise pointed to a specific memory adress, and as we can demonstrate, and this doesn't change even though base or height do."
   ]
  },
  {
   "cell_type": "code",
   "execution_count": null,
   "id": "02efee9f",
   "metadata": {},
   "outputs": [],
   "source": [
    "base = 20\n",
    "id(base)"
   ]
  },
  {
   "cell_type": "code",
   "execution_count": null,
   "id": "fd20f22f",
   "metadata": {},
   "outputs": [],
   "source": [
    "id(area)"
   ]
  },
  {
   "cell_type": "code",
   "execution_count": null,
   "id": "b697c26f",
   "metadata": {},
   "outputs": [],
   "source": [
    "base = 40\n",
    "id(base)"
   ]
  },
  {
   "cell_type": "code",
   "execution_count": null,
   "id": "058f1bab",
   "metadata": {},
   "outputs": [],
   "source": [
    "id(area)"
   ]
  },
  {
   "cell_type": "code",
   "execution_count": null,
   "id": "b7cdeb0d",
   "metadata": {},
   "outputs": [],
   "source": [
    "int\ti;\n",
    "int*\tbase;\t// p is a pointer\n",
    "\n",
    "i = 123;\n",
    "p = &i;\t/"
   ]
  },
  {
   "cell_type": "markdown",
   "id": "f312397b",
   "metadata": {},
   "source": [
    "$$\n",
    "\\begin{align}\n",
    "x &= y + z \\\\\n",
    "a &= b + c\n",
    "\\end{align}\n",
    "$$"
   ]
  },
  {
   "cell_type": "markdown",
   "id": "fab08008",
   "metadata": {},
   "source": [
    "$$\n",
    "\\begin{equation*}\n",
    "\\left.\\begin{aligned}\n",
    "B’&=-\\partial\\times E,\\\\\n",
    "E’&=\\partial\\times B - 4\\pi j,\n",
    "\\end{aligned}\n",
    "\\right\\}\n",
    "\\qquad \\text{Maxwell’s equations}\n",
    "\\end{equation*}\n",
    "\\partial_s f(x) = \\frac{\\partial}{\\partial x_0} f(x)\\quad\n",
    "\\text{for $x= x_0 + I x_1$.}\n",
    "$$"
   ]
  },
  {
   "cell_type": "code",
   "execution_count": null,
   "id": "e21ef146",
   "metadata": {},
   "outputs": [],
   "source": [
    "\n",
    "There are built-in functions called getattr and setattr\n",
    "\n",
    "getattr(str(area), str(base))"
   ]
  },
  {
   "cell_type": "markdown",
   "id": "d4598414",
   "metadata": {},
   "source": [
    "$$\n",
    "\\begin{array}{lcl}\n",
    "x & = & y + z \\\\\n",
    "a & = & b + c\n",
    "\\end{array}\n",
    "$$\n"
   ]
  },
  {
   "cell_type": "markdown",
   "id": "709f530b",
   "metadata": {},
   "source": [
    "$$\n",
    "\\begin{equation*}\n",
    "a=b\\label{eq:\"1\"}\n",
    "\\end{equation*}\n",
    "$$"
   ]
  },
  {
   "cell_type": "markdown",
   "id": "a9e898e3",
   "metadata": {},
   "source": [
    "\\begin{equation}\\label{xx}\n",
    "\\begin{split}\n",
    "a& =b+c-d\\\\\n",
    "& \\quad +e-f\\\\\n",
    "& =g+h\\\\\n",
    "& =i\n",
    "\\end{split}\n",
    "\\end{equation}\n"
   ]
  },
  {
   "cell_type": "markdown",
   "id": "522bf269",
   "metadata": {},
   "source": [
    "\\begin{multline}\n",
    "a+b+c+d+e+f\\\\\n",
    "+i+j+k+l+m+n\n",
    "\\end{multline}\n",
    "(3) a + b + c + d + e + f\n",
    "+ i + j + k + l + m + n\n",
    "\\begin{gather}\n",
    "a_1=b_1+c_1\\\\\n",
    "a_2=b_2+c_2-d_2+e_2\n",
    "\\end{gather}\n",
    "(4) a1 = b1 + c1\n",
    "(5) a2 = b2 + c2 − d2 + e2\n",
    "\\begin{align}\n",
    "a_1& =b_1+c_1\\\\\n",
    "a_2& =b_2+c_2-d_2+e_2\n",
    "\\end{align}\n",
    "(6) a1 = b1 + c1\n",
    "(7) a2 = b2 + c2 − d2 + e2\n",
    "\\begin{align}\n",
    "a_{11}& =b_{11}&\n",
    "a_{12}& =b_{12}\\\\\n",
    "a_{21}& =b_{21}&\n",
    "a_{22}& =b_{22}+c_{22}\n",
    "\\end{align}\n",
    "(8) a11 = b11 a12 = b12\n",
    "(9) a21 = b21 a22 = b22 + c22\n",
    "\\begin{flalign*}\n",
    "a_{11} + b_{11}& = c_{11}&\n",
    "a_{12}& =b_{12}\\\\\n",
    "b_{21}& = c_{21}&\n",
    "a_{22}& =b_{22}+c_{22}\n",
    "\\end{flalign*}"
   ]
  },
  {
   "cell_type": "code",
   "execution_count": null,
   "id": "33adcc26",
   "metadata": {},
   "outputs": [],
   "source": [
    "#from IPython.display import Image, display, HTML\n",
    "#display(Image(url=\"https://media.geeksforgeeks.org/wp-content/cdn-uploads/20201022212841/Area-of-a-Triangle-3-1024x605.png\", unconfined=True, height= 500, width=500))\n"
   ]
  }
 ],
 "metadata": {
  "kernelspec": {
   "display_name": "Python 3 (ipykernel)",
   "language": "python",
   "name": "python3"
  },
  "language_info": {
   "codemirror_mode": {
    "name": "ipython",
    "version": 3
   },
   "file_extension": ".py",
   "mimetype": "text/x-python",
   "name": "python",
   "nbconvert_exporter": "python",
   "pygments_lexer": "ipython3",
   "version": "3.11.4"
  }
 },
 "nbformat": 4,
 "nbformat_minor": 5
}
